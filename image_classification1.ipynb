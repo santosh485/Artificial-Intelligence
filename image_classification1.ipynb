{
 "cells": [
  {
   "cell_type": "code",
   "execution_count": 1,
   "id": "1a758aba",
   "metadata": {},
   "outputs": [],
   "source": [
    "import tensorflow as tf"
   ]
  },
  {
   "cell_type": "code",
   "execution_count": 2,
   "id": "f35fed6f",
   "metadata": {},
   "outputs": [],
   "source": [
    "from tensorflow import keras"
   ]
  },
  {
   "cell_type": "code",
   "execution_count": 3,
   "id": "007e343b",
   "metadata": {},
   "outputs": [],
   "source": [
    "from tensorflow.keras.preprocessing.image import ImageDataGenerator #\n",
    "from tensorflow.keras.models import Sequential #\n",
    "from tensorflow.keras.layers import Dense,Dropout,Activation,Flatten,Conv2D,MaxPooling2D \n",
    "#Dense=computational unit make less\n",
    "#Dropout = Numerical unit drop"
   ]
  },
  {
   "cell_type": "code",
   "execution_count": 4,
   "id": "a3c2b21a",
   "metadata": {},
   "outputs": [],
   "source": [
    "#cd /path\n",
    "#!unzip /path or archive.zip\n",
    "num_classes = 2 #cat and dog\n",
    "img_row = 64\n",
    "img_col = 64 #image size\n",
    "train_dataset = \"E:\\\\AIBroadway\\\\catvsdog\\\\training_set\\\\training_set\"\n",
    "test_dataset = \"E:\\\\AIBroadway\\\\catvsdog\\\\test_set\\\\test_set\""
   ]
  },
  {
   "cell_type": "code",
   "execution_count": 5,
   "id": "38a4e57d",
   "metadata": {},
   "outputs": [],
   "source": [
    "#data augmentation\n",
    "train_datagen = ImageDataGenerator(\n",
    "rescale = 1./255,\n",
    "rotation_range = 30,\n",
    "width_shift_range = 0.4,\n",
    "height_shift_range = 0.4,\n",
    "horizontal_flip = True,\n",
    "fill_mode='nearest')"
   ]
  },
  {
   "cell_type": "code",
   "execution_count": 6,
   "id": "088498f1",
   "metadata": {},
   "outputs": [],
   "source": [
    "validation_datagen = ImageDataGenerator(rescale=1./255)"
   ]
  },
  {
   "cell_type": "code",
   "execution_count": 7,
   "id": "bb7be614",
   "metadata": {},
   "outputs": [
    {
     "name": "stdout",
     "output_type": "stream",
     "text": [
      "Found 8005 images belonging to 2 classes.\n"
     ]
    }
   ],
   "source": [
    "train_generator = train_datagen.flow_from_directory(\n",
    "    train_dataset,\n",
    "    target_size=(img_row,img_col),\n",
    "    batch_size = 32,\n",
    "    class_mode = 'binary',\n",
    "    shuffle = True\n",
    ")"
   ]
  },
  {
   "cell_type": "code",
   "execution_count": 8,
   "id": "dac32e7e",
   "metadata": {},
   "outputs": [
    {
     "name": "stdout",
     "output_type": "stream",
     "text": [
      "Found 2023 images belonging to 2 classes.\n"
     ]
    }
   ],
   "source": [
    "validation_generator = train_datagen.flow_from_directory(\n",
    "    test_dataset,\n",
    "    target_size=(img_row,img_col),\n",
    "    batch_size = 32,\n",
    "    class_mode = 'binary',\n",
    "    shuffle = True\n",
    ")"
   ]
  },
  {
   "cell_type": "code",
   "execution_count": 9,
   "id": "221ecea3",
   "metadata": {},
   "outputs": [
    {
     "name": "stdout",
     "output_type": "stream",
     "text": [
      "Model: \"sequential\"\n",
      "_________________________________________________________________\n",
      "Layer (type)                 Output Shape              Param #   \n",
      "=================================================================\n",
      "conv2d (Conv2D)              (None, 64, 64, 64)        1792      \n",
      "_________________________________________________________________\n",
      "activation (Activation)      (None, 64, 64, 64)        0         \n",
      "_________________________________________________________________\n",
      "max_pooling2d (MaxPooling2D) (None, 32, 32, 64)        0         \n",
      "_________________________________________________________________\n",
      "dropout (Dropout)            (None, 32, 32, 64)        0         \n",
      "_________________________________________________________________\n",
      "conv2d_1 (Conv2D)            (None, 32, 32, 16)        9232      \n",
      "_________________________________________________________________\n",
      "activation_1 (Activation)    (None, 32, 32, 16)        0         \n",
      "_________________________________________________________________\n",
      "max_pooling2d_1 (MaxPooling2 (None, 16, 16, 16)        0         \n",
      "_________________________________________________________________\n",
      "dropout_1 (Dropout)          (None, 16, 16, 16)        0         \n",
      "_________________________________________________________________\n",
      "flatten (Flatten)            (None, 4096)              0         \n",
      "_________________________________________________________________\n",
      "dense (Dense)                (None, 256)               1048832   \n",
      "_________________________________________________________________\n",
      "activation_2 (Activation)    (None, 256)               0         \n",
      "_________________________________________________________________\n",
      "dropout_2 (Dropout)          (None, 256)               0         \n",
      "=================================================================\n",
      "Total params: 1,059,856\n",
      "Trainable params: 1,059,856\n",
      "Non-trainable params: 0\n",
      "_________________________________________________________________\n"
     ]
    }
   ],
   "source": [
    "model = Sequential() #feature map\n",
    "#input layer for convolution\n",
    "model.add(Conv2D(64,(3,3),padding='same',input_shape=(64,64,3)))\n",
    "model.add(Activation('relu'))\n",
    "model.add(MaxPooling2D(pool_size = (2,2)))\n",
    "model.add(Dropout(0.25))\n",
    "\n",
    "#hidden layer conv\n",
    "#model.add(Conv2D(32,(3,3),padding='same'))\n",
    "#model.add(Activation('relu'))\n",
    "#model.add(MaxPooling2D(pool_size = (2,2)))\n",
    "#model.add(Dropout(0.25))\n",
    "\n",
    "model.add(Conv2D(16,(3,3),padding='same'))\n",
    "model.add(Activation('relu'))\n",
    "model.add(MaxPooling2D(pool_size = (2,2)))\n",
    "model.add(Dropout(0.25))\n",
    "\n",
    "#flatten conv\n",
    "model.add(Flatten())#single layer 1D\n",
    "model.add(Dense(256)) #only few send\n",
    "model.add(Activation('relu'))\n",
    "model.add(Dropout(0.5)) #size decrease\n",
    "model.summary()\n"
   ]
  },
  {
   "cell_type": "code",
   "execution_count": 10,
   "id": "9c202051",
   "metadata": {},
   "outputs": [
    {
     "name": "stdout",
     "output_type": "stream",
     "text": [
      "Model: \"sequential\"\n",
      "_________________________________________________________________\n",
      "Layer (type)                 Output Shape              Param #   \n",
      "=================================================================\n",
      "conv2d (Conv2D)              (None, 64, 64, 64)        1792      \n",
      "_________________________________________________________________\n",
      "activation (Activation)      (None, 64, 64, 64)        0         \n",
      "_________________________________________________________________\n",
      "max_pooling2d (MaxPooling2D) (None, 32, 32, 64)        0         \n",
      "_________________________________________________________________\n",
      "dropout (Dropout)            (None, 32, 32, 64)        0         \n",
      "_________________________________________________________________\n",
      "conv2d_1 (Conv2D)            (None, 32, 32, 16)        9232      \n",
      "_________________________________________________________________\n",
      "activation_1 (Activation)    (None, 32, 32, 16)        0         \n",
      "_________________________________________________________________\n",
      "max_pooling2d_1 (MaxPooling2 (None, 16, 16, 16)        0         \n",
      "_________________________________________________________________\n",
      "dropout_1 (Dropout)          (None, 16, 16, 16)        0         \n",
      "_________________________________________________________________\n",
      "flatten (Flatten)            (None, 4096)              0         \n",
      "_________________________________________________________________\n",
      "dense (Dense)                (None, 256)               1048832   \n",
      "_________________________________________________________________\n",
      "activation_2 (Activation)    (None, 256)               0         \n",
      "_________________________________________________________________\n",
      "dropout_2 (Dropout)          (None, 256)               0         \n",
      "_________________________________________________________________\n",
      "dense_1 (Dense)              (None, 256)               65792     \n",
      "_________________________________________________________________\n",
      "dense_2 (Dense)              (None, 128)               32896     \n",
      "_________________________________________________________________\n",
      "dense_3 (Dense)              (None, 32)                4128      \n",
      "_________________________________________________________________\n",
      "dense_4 (Dense)              (None, 16)                528       \n",
      "_________________________________________________________________\n",
      "dense_5 (Dense)              (None, 1)                 17        \n",
      "_________________________________________________________________\n",
      "activation_3 (Activation)    (None, 1)                 0         \n",
      "=================================================================\n",
      "Total params: 1,163,217\n",
      "Trainable params: 1,163,217\n",
      "Non-trainable params: 0\n",
      "_________________________________________________________________\n"
     ]
    }
   ],
   "source": [
    "#neural network\n",
    "model.add(Dense(units=256, activation = 'relu'))\n",
    "model.add(Dense(units=128, activation = 'relu'))\n",
    "model.add(Dense(units=32, activation = 'relu'))\n",
    "model.add(Dense(units=16, activation = 'relu')) # only +\n",
    "model.add(Dense(1))\n",
    "model.add(Activation('sigmoid')) #0 or 1 output layer ma yes or no softmax do for probality\n",
    "model.summary()"
   ]
  },
  {
   "cell_type": "code",
   "execution_count": 11,
   "id": "f7132ef7",
   "metadata": {},
   "outputs": [
    {
     "name": "stderr",
     "output_type": "stream",
     "text": [
      "D:\\Other\\anaconda\\lib\\site-packages\\tensorflow\\python\\keras\\engine\\training.py:1940: UserWarning: `Model.fit_generator` is deprecated and will be removed in a future version. Please use `Model.fit`, which supports generators.\n",
      "  warnings.warn('`Model.fit_generator` is deprecated and '\n"
     ]
    },
    {
     "name": "stdout",
     "output_type": "stream",
     "text": [
      "Epoch 1/5\n",
      "250/250 [==============================] - 298s 1s/step - loss: 0.6958 - accuracy: 0.5067 - val_loss: 0.6933 - val_accuracy: 0.4995\n",
      "Epoch 2/5\n",
      "250/250 [==============================] - 57s 228ms/step - loss: 0.6952 - accuracy: 0.4917 - val_loss: 0.6920 - val_accuracy: 0.5025\n",
      "Epoch 3/5\n",
      "250/250 [==============================] - 57s 226ms/step - loss: 0.6899 - accuracy: 0.5497 - val_loss: 0.6794 - val_accuracy: 0.5828\n",
      "Epoch 4/5\n",
      "250/250 [==============================] - 56s 224ms/step - loss: 0.6826 - accuracy: 0.5659 - val_loss: 0.6719 - val_accuracy: 0.5769\n",
      "Epoch 5/5\n",
      "250/250 [==============================] - 58s 230ms/step - loss: 0.6734 - accuracy: 0.5833 - val_loss: 0.6724 - val_accuracy: 0.5729\n"
     ]
    },
    {
     "data": {
      "text/plain": [
       "<tensorflow.python.keras.callbacks.History at 0x140d52b4f10>"
      ]
     },
     "execution_count": 11,
     "metadata": {},
     "output_type": "execute_result"
    }
   ],
   "source": [
    "#comile before traing\n",
    "#training\n",
    "model.compile(loss='binary_crossentropy',\n",
    "              optimizer = 'rmsprop',\n",
    "              metrics = ['accuracy'])\n",
    "\n",
    "model.fit_generator(\n",
    "    train_generator,\n",
    "    steps_per_epoch = 8005//32,\n",
    "    epochs = 5,\n",
    "    validation_data= validation_generator,\n",
    "    validation_steps = 2023//32\n",
    ")"
   ]
  },
  {
   "cell_type": "code",
   "execution_count": 11,
   "id": "bdd4b9d7",
   "metadata": {},
   "outputs": [
    {
     "name": "stdout",
     "output_type": "stream",
     "text": [
      "WARNING:tensorflow:Compiled the loaded model, but the compiled metrics have yet to be built. `model.compile_metrics` will be empty until you train or evaluate the model.\n"
     ]
    }
   ],
   "source": [
    "model.save('cat_vs_dog.h5')"
   ]
  },
  {
   "cell_type": "code",
   "execution_count": 13,
   "id": "ac2923bc",
   "metadata": {},
   "outputs": [
    {
     "name": "stdout",
     "output_type": "stream",
     "text": [
      "WARNING:tensorflow:No training configuration found in the save file, so the model was *not* compiled. Compile it manually.\n",
      "[[0.9999722]]\n",
      "This is dog\n"
     ]
    }
   ],
   "source": [
    "#test\n",
    "from tensorflow.python.keras.utils.generic_utils import class_and_config_for_serialized_keras_object\n",
    "import numpy as np #to convert array\n",
    "from tensorflow.keras.preprocessing import image\n",
    "from tensorflow.keras.models import load_model\n",
    "\n",
    "classifier = load_model('E:\\\\AIBroadway\\\\cat_vs_dog.h5')\n",
    "test_image = image.load_img('E:\\\\AIBroadway\\\\catvsdog\\\\test_set\\\\test_set\\\\cats\\\\cat.4002.jpg',target_size = (64,64,3))\n",
    "test_image = image.img_to_array(test_image)\n",
    "test_image = np.expand_dims(test_image,axis=0)\n",
    "result = classifier.predict(test_image)\n",
    "print(result)\n",
    "if result > 0.6:\n",
    "  print(\"This is dog\")\n",
    "else:\n",
    "  print(\"This is cat\")"
   ]
  },
  {
   "cell_type": "code",
   "execution_count": null,
   "id": "48dbebd8",
   "metadata": {},
   "outputs": [],
   "source": []
  }
 ],
 "metadata": {
  "kernelspec": {
   "display_name": "Python 3",
   "language": "python",
   "name": "python3"
  },
  "language_info": {
   "codemirror_mode": {
    "name": "ipython",
    "version": 3
   },
   "file_extension": ".py",
   "mimetype": "text/x-python",
   "name": "python",
   "nbconvert_exporter": "python",
   "pygments_lexer": "ipython3",
   "version": "3.8.8"
  }
 },
 "nbformat": 4,
 "nbformat_minor": 5
}
