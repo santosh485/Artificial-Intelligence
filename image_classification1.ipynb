{
 "cells": [
  {
   "cell_type": "code",
   "execution_count": 32,
   "id": "1a758aba",
   "metadata": {},
   "outputs": [],
   "source": [
    "import tensorflow as tf"
   ]
  },
  {
   "cell_type": "code",
   "execution_count": 33,
   "id": "f35fed6f",
   "metadata": {},
   "outputs": [],
   "source": [
    "from tensorflow import keras"
   ]
  },
  {
   "cell_type": "code",
   "execution_count": 34,
   "id": "007e343b",
   "metadata": {},
   "outputs": [],
   "source": [
    "from tensorflow.keras.preprocessing.image import ImageDataGenerator #\n",
    "from tensorflow.keras.models import Sequential #\n",
    "from tensorflow.keras.layers import Dense,Dropout,Activation,Flatten,Conv2D,MaxPooling2D \n",
    "#Dense=computational unit make less\n",
    "#Dropout = Numerical unit drop"
   ]
  },
  {
   "cell_type": "code",
   "execution_count": 43,
   "id": "a3c2b21a",
   "metadata": {},
   "outputs": [],
   "source": [
    "#cd /path\n",
    "#!unzip /path or archive.zip\n",
    "num_classes = 2 #cat and dog\n",
    "img_row = 64\n",
    "img_col = 64 #image size\n",
    "train_dataset = \"E:\\\\AIBroadway\\\\catvsdog\\\\training_set\\\\training_set\"\n",
    "test_dataset = \"E:\\\\AIBroadway\\\\catvsdog\\\\test_set\\\\test_set\""
   ]
  },
  {
   "cell_type": "code",
   "execution_count": 44,
   "id": "38a4e57d",
   "metadata": {},
   "outputs": [],
   "source": [
    "#data augmentation\n",
    "train_datagen = ImageDataGenerator(\n",
    "rescale = 1./255,\n",
    "rotation_range = 30,\n",
    "width_shift_range = 0.4,\n",
    "height_shift_range = 0.4,\n",
    "horizontal_flip = True,\n",
    "fill_mode='nearest')"
   ]
  },
  {
   "cell_type": "code",
   "execution_count": 45,
   "id": "088498f1",
   "metadata": {},
   "outputs": [],
   "source": [
    "validation_datagen = ImageDataGenerator(rescale=1./255)"
   ]
  },
  {
   "cell_type": "code",
   "execution_count": 46,
   "id": "bb7be614",
   "metadata": {},
   "outputs": [
    {
     "name": "stdout",
     "output_type": "stream",
     "text": [
      "Found 8005 images belonging to 2 classes.\n"
     ]
    }
   ],
   "source": [
    "train_generator = train_datagen.flow_from_directory(\n",
    "    train_dataset,\n",
    "    target_size=(img_row,img_col),\n",
    "    batch_size = 32,\n",
    "    class_mode = 'binary',\n",
    "    shuffle = True\n",
    ")"
   ]
  },
  {
   "cell_type": "code",
   "execution_count": 47,
   "id": "dac32e7e",
   "metadata": {},
   "outputs": [
    {
     "name": "stdout",
     "output_type": "stream",
     "text": [
      "Found 2023 images belonging to 2 classes.\n"
     ]
    }
   ],
   "source": [
    "validation_generator = train_datagen.flow_from_directory(\n",
    "    test_dataset,\n",
    "    target_size=(img_row,img_col),\n",
    "    batch_size = 32,\n",
    "    class_mode = 'binary',\n",
    "    shuffle = True\n",
    ")"
   ]
  },
  {
   "cell_type": "code",
   "execution_count": 48,
   "id": "221ecea3",
   "metadata": {},
   "outputs": [
    {
     "name": "stdout",
     "output_type": "stream",
     "text": [
      "Model: \"sequential_4\"\n",
      "_________________________________________________________________\n",
      "Layer (type)                 Output Shape              Param #   \n",
      "=================================================================\n",
      "conv2d_11 (Conv2D)           (None, 64, 64, 64)        1792      \n",
      "_________________________________________________________________\n",
      "activation_18 (Activation)   (None, 64, 64, 64)        0         \n",
      "_________________________________________________________________\n",
      "max_pooling2d_11 (MaxPooling (None, 32, 32, 64)        0         \n",
      "_________________________________________________________________\n",
      "dropout_15 (Dropout)         (None, 32, 32, 64)        0         \n",
      "_________________________________________________________________\n",
      "conv2d_12 (Conv2D)           (None, 32, 32, 32)        18464     \n",
      "_________________________________________________________________\n",
      "activation_19 (Activation)   (None, 32, 32, 32)        0         \n",
      "_________________________________________________________________\n",
      "max_pooling2d_12 (MaxPooling (None, 16, 16, 32)        0         \n",
      "_________________________________________________________________\n",
      "dropout_16 (Dropout)         (None, 16, 16, 32)        0         \n",
      "_________________________________________________________________\n",
      "conv2d_13 (Conv2D)           (None, 16, 16, 16)        4624      \n",
      "_________________________________________________________________\n",
      "activation_20 (Activation)   (None, 16, 16, 16)        0         \n",
      "_________________________________________________________________\n",
      "max_pooling2d_13 (MaxPooling (None, 8, 8, 16)          0         \n",
      "_________________________________________________________________\n",
      "dropout_17 (Dropout)         (None, 8, 8, 16)          0         \n",
      "_________________________________________________________________\n",
      "flatten_4 (Flatten)          (None, 1024)              0         \n",
      "_________________________________________________________________\n",
      "dense_19 (Dense)             (None, 256)               262400    \n",
      "_________________________________________________________________\n",
      "activation_21 (Activation)   (None, 256)               0         \n",
      "_________________________________________________________________\n",
      "dropout_18 (Dropout)         (None, 256)               0         \n",
      "=================================================================\n",
      "Total params: 287,280\n",
      "Trainable params: 287,280\n",
      "Non-trainable params: 0\n",
      "_________________________________________________________________\n"
     ]
    }
   ],
   "source": [
    "model = Sequential() #feature map\n",
    "#input layer for convolution\n",
    "model.add(Conv2D(64,(3,3),padding='same',input_shape=(64,64,3)))\n",
    "model.add(Activation('relu'))\n",
    "model.add(MaxPooling2D(pool_size = (2,2)))\n",
    "model.add(Dropout(0.25))\n",
    "\n",
    "#hidden layer conv\n",
    "model.add(Conv2D(32,(3,3),padding='same'))\n",
    "model.add(Activation('relu'))\n",
    "model.add(MaxPooling2D(pool_size = (2,2)))\n",
    "model.add(Dropout(0.25))\n",
    "\n",
    "model.add(Conv2D(16,(3,3),padding='same'))\n",
    "model.add(Activation('relu'))\n",
    "model.add(MaxPooling2D(pool_size = (2,2)))\n",
    "model.add(Dropout(0.25))\n",
    "\n",
    "#flatten conv\n",
    "model.add(Flatten())#single layer 1D\n",
    "model.add(Dense(256)) #only few send\n",
    "model.add(Activation('relu'))\n",
    "model.add(Dropout(0.5)) #size decrease\n",
    "model.summary()\n"
   ]
  },
  {
   "cell_type": "code",
   "execution_count": 49,
   "id": "9c202051",
   "metadata": {},
   "outputs": [
    {
     "name": "stdout",
     "output_type": "stream",
     "text": [
      "Model: \"sequential_4\"\n",
      "_________________________________________________________________\n",
      "Layer (type)                 Output Shape              Param #   \n",
      "=================================================================\n",
      "conv2d_11 (Conv2D)           (None, 64, 64, 64)        1792      \n",
      "_________________________________________________________________\n",
      "activation_18 (Activation)   (None, 64, 64, 64)        0         \n",
      "_________________________________________________________________\n",
      "max_pooling2d_11 (MaxPooling (None, 32, 32, 64)        0         \n",
      "_________________________________________________________________\n",
      "dropout_15 (Dropout)         (None, 32, 32, 64)        0         \n",
      "_________________________________________________________________\n",
      "conv2d_12 (Conv2D)           (None, 32, 32, 32)        18464     \n",
      "_________________________________________________________________\n",
      "activation_19 (Activation)   (None, 32, 32, 32)        0         \n",
      "_________________________________________________________________\n",
      "max_pooling2d_12 (MaxPooling (None, 16, 16, 32)        0         \n",
      "_________________________________________________________________\n",
      "dropout_16 (Dropout)         (None, 16, 16, 32)        0         \n",
      "_________________________________________________________________\n",
      "conv2d_13 (Conv2D)           (None, 16, 16, 16)        4624      \n",
      "_________________________________________________________________\n",
      "activation_20 (Activation)   (None, 16, 16, 16)        0         \n",
      "_________________________________________________________________\n",
      "max_pooling2d_13 (MaxPooling (None, 8, 8, 16)          0         \n",
      "_________________________________________________________________\n",
      "dropout_17 (Dropout)         (None, 8, 8, 16)          0         \n",
      "_________________________________________________________________\n",
      "flatten_4 (Flatten)          (None, 1024)              0         \n",
      "_________________________________________________________________\n",
      "dense_19 (Dense)             (None, 256)               262400    \n",
      "_________________________________________________________________\n",
      "activation_21 (Activation)   (None, 256)               0         \n",
      "_________________________________________________________________\n",
      "dropout_18 (Dropout)         (None, 256)               0         \n",
      "_________________________________________________________________\n",
      "dense_20 (Dense)             (None, 256)               65792     \n",
      "_________________________________________________________________\n",
      "dense_21 (Dense)             (None, 128)               32896     \n",
      "_________________________________________________________________\n",
      "dense_22 (Dense)             (None, 32)                4128      \n",
      "_________________________________________________________________\n",
      "dense_23 (Dense)             (None, 16)                528       \n",
      "_________________________________________________________________\n",
      "dense_24 (Dense)             (None, 1)                 17        \n",
      "_________________________________________________________________\n",
      "activation_22 (Activation)   (None, 1)                 0         \n",
      "=================================================================\n",
      "Total params: 390,641\n",
      "Trainable params: 390,641\n",
      "Non-trainable params: 0\n",
      "_________________________________________________________________\n"
     ]
    }
   ],
   "source": [
    "#neural network\n",
    "model.add(Dense(units=256, activation = 'relu'))\n",
    "model.add(Dense(units=128, activation = 'relu'))\n",
    "model.add(Dense(units=32, activation = 'relu'))\n",
    "model.add(Dense(units=16, activation = 'relu')) # only +\n",
    "model.add(Dense(1))\n",
    "model.add(Activation('sigmoid')) #0 or 1 output layer ma yes or no softmax do for probality\n",
    "model.summary()"
   ]
  },
  {
   "cell_type": "code",
   "execution_count": 50,
   "id": "f7132ef7",
   "metadata": {},
   "outputs": [
    {
     "name": "stdout",
     "output_type": "stream",
     "text": [
      "Epoch 1/10\n",
      "250/250 [==============================] - 198s 791ms/step - loss: 0.6939 - accuracy: 0.5016 - val_loss: 0.6934 - val_accuracy: 0.5000\n",
      "Epoch 2/10\n",
      "250/250 [==============================] - 57s 226ms/step - loss: 0.6866 - accuracy: 0.5505 - val_loss: 0.6789 - val_accuracy: 0.5843\n",
      "Epoch 3/10\n",
      "250/250 [==============================] - 58s 232ms/step - loss: 0.6732 - accuracy: 0.5790 - val_loss: 0.6605 - val_accuracy: 0.5967\n",
      "Epoch 4/10\n",
      "250/250 [==============================] - 58s 230ms/step - loss: 0.6700 - accuracy: 0.5899 - val_loss: 0.6589 - val_accuracy: 0.5719\n",
      "Epoch 5/10\n",
      "250/250 [==============================] - 58s 231ms/step - loss: 0.6636 - accuracy: 0.5950 - val_loss: 0.7025 - val_accuracy: 0.5704\n",
      "Epoch 6/10\n",
      "250/250 [==============================] - 57s 229ms/step - loss: 0.6563 - accuracy: 0.6183 - val_loss: 0.6456 - val_accuracy: 0.6448\n",
      "Epoch 7/10\n",
      "250/250 [==============================] - 57s 230ms/step - loss: 0.6511 - accuracy: 0.6188 - val_loss: 0.6296 - val_accuracy: 0.6543\n",
      "Epoch 8/10\n",
      "250/250 [==============================] - 57s 229ms/step - loss: 0.6447 - accuracy: 0.6285 - val_loss: 0.6240 - val_accuracy: 0.6518\n",
      "Epoch 9/10\n",
      "250/250 [==============================] - 58s 230ms/step - loss: 0.6387 - accuracy: 0.6343 - val_loss: 0.6200 - val_accuracy: 0.6498\n",
      "Epoch 10/10\n",
      "250/250 [==============================] - 59s 237ms/step - loss: 0.6354 - accuracy: 0.6409 - val_loss: 0.6206 - val_accuracy: 0.6622\n"
     ]
    }
   ],
   "source": [
    "#comile before traing\n",
    "#training\n",
    "model.compile(loss='binary_crossentropy',\n",
    "              optimizer = 'rmsprop',\n",
    "              metrics = ['accuracy'])\n",
    "\n",
    "history = model.fit_generator(\n",
    "    train_generator,\n",
    "    steps_per_epoch = 8005//32,\n",
    "    epochs = 10,\n",
    "    validation_data= validation_generator,\n",
    "    validation_steps = 2023//32\n",
    ")"
   ]
  },
  {
   "cell_type": "code",
   "execution_count": 51,
   "id": "bdd4b9d7",
   "metadata": {},
   "outputs": [],
   "source": [
    "model.save('E:\\\\AIBroadway\\\\cat_vs_dog.h5')"
   ]
  },
  {
   "cell_type": "code",
   "execution_count": 52,
   "id": "ac2923bc",
   "metadata": {},
   "outputs": [
    {
     "name": "stdout",
     "output_type": "stream",
     "text": [
      "[[1.]]\n",
      "This is dog\n"
     ]
    }
   ],
   "source": [
    "#test\n",
    "from tensorflow.python.keras.utils.generic_utils import class_and_config_for_serialized_keras_object\n",
    "import numpy as np #to convert array\n",
    "from tensorflow.keras.preprocessing import image\n",
    "from tensorflow.keras.models import load_model\n",
    "\n",
    "classifier = load_model('E:\\\\AIBroadway\\\\cat_vs_dog.h5')\n",
    "test_image = image.load_img('E:\\\\AIBroadway\\\\catvsdog\\\\test_set\\\\test_set\\\\cats\\\\cat.4002.jpg',target_size = (64,64,3))\n",
    "test_image = image.img_to_array(test_image)\n",
    "test_image = np.expand_dims(test_image,axis=0)\n",
    "result = classifier.predict(test_image)\n",
    "print(result)\n",
    "if result > 0.6:\n",
    "  print(\"This is dog\")\n",
    "else:\n",
    "  print(\"This is cat\")"
   ]
  },
  {
   "cell_type": "code",
   "execution_count": 53,
   "id": "48dbebd8",
   "metadata": {},
   "outputs": [
    {
     "data": {
      "text/plain": [
       "{'loss': [0.6939066052436829,\n",
       "  0.6866346001625061,\n",
       "  0.6731613874435425,\n",
       "  0.6700038313865662,\n",
       "  0.6635844111442566,\n",
       "  0.6563143134117126,\n",
       "  0.6511174440383911,\n",
       "  0.6446840167045593,\n",
       "  0.6387437582015991,\n",
       "  0.6353889107704163],\n",
       " 'accuracy': [0.5015677809715271,\n",
       "  0.5504828691482544,\n",
       "  0.5789539813995361,\n",
       "  0.5898658037185669,\n",
       "  0.595008134841919,\n",
       "  0.6183369159698486,\n",
       "  0.6188386082649231,\n",
       "  0.6284961700439453,\n",
       "  0.634265661239624,\n",
       "  0.6409130692481995],\n",
       " 'val_loss': [0.6933727860450745,\n",
       "  0.6788807511329651,\n",
       "  0.6605191230773926,\n",
       "  0.6588732600212097,\n",
       "  0.7025142908096313,\n",
       "  0.6456307172775269,\n",
       "  0.6295704245567322,\n",
       "  0.6239504218101501,\n",
       "  0.6200299859046936,\n",
       "  0.6206393241882324],\n",
       " 'val_accuracy': [0.5,\n",
       "  0.58432537317276,\n",
       "  0.5967261791229248,\n",
       "  0.57192462682724,\n",
       "  0.5704365372657776,\n",
       "  0.6448412537574768,\n",
       "  0.6542658805847168,\n",
       "  0.6517857313156128,\n",
       "  0.6498016119003296,\n",
       "  0.6622023582458496]}"
      ]
     },
     "execution_count": 53,
     "metadata": {},
     "output_type": "execute_result"
    }
   ],
   "source": [
    "history.history"
   ]
  },
  {
   "cell_type": "code",
   "execution_count": 54,
   "id": "58883db9",
   "metadata": {},
   "outputs": [
    {
     "data": {
      "image/png": "[encoded data removed]",
      "text/plain": [
       "<Figure size 432x288 with 1 Axes>"
      ]
     },
     "metadata": {
      "needs_background": "light"
     },
     "output_type": "display_data"
    },
    {
     "data": {
      "image/png": "[encoded data removed]",
      "text/plain": [
       "<Figure size 432x288 with 1 Axes>"
      ]
     },
     "metadata": {
      "needs_background": "light"
     },
     "output_type": "display_data"
    }
   ],
   "source": [
    "# Plotting our loss charts\n",
    "import matplotlib.pyplot as plt\n",
    "\n",
    "history_dict = history.history #\n",
    "\n",
    "loss_values = history_dict['loss']\n",
    "val_loss_values = history_dict['val_loss']\n",
    "epochs = range(1, len(loss_values) + 1)\n",
    "\n",
    "line1 = plt.plot(epochs, val_loss_values, label='Validation/Test Loss')\n",
    "line2 = plt.plot(epochs, loss_values, label='Training Loss')\n",
    "\n",
    "plt.setp(line1, linewidth=2.0, marker = '+', markersize=10.0)\n",
    "plt.setp(line2, linewidth=2.0, marker = '4', markersize=10.0)\n",
    "plt.xlabel('Epochs') \n",
    "plt.ylabel('Loss')\n",
    "plt.grid(True)\n",
    "plt.legend()\n",
    "plt.show()\n",
    "\n",
    "# Plotting our acuracy charts\n",
    "import matplotlib.pyplot as plt\n",
    "\n",
    "history_dict = history.history\n",
    "\n",
    "loss_values = history_dict['accuracy']\n",
    "val_loss_values = history_dict['val_accuracy']\n",
    "epochs = range(1, len(loss_values) + 1)\n",
    "\n",
    "line1 = plt.plot(epochs, val_loss_values, label='Validation/Test Accuracy')\n",
    "line2 = plt.plot(epochs, loss_values, label='Training Accuracy')\n",
    "plt.setp(line1, linewidth=2.0, marker = '+', markersize=10.0)\n",
    "plt.setp(line2, linewidth=2.0, marker = '4', markersize=10.0)\n",
    "plt.xlabel('Epochs') \n",
    "plt.ylabel('Loss')\n",
    "plt.grid(True)\n",
    "plt.legend()\n",
    "plt.show()"
   ]
  },
  {
   "cell_type": "code",
   "execution_count": 55,
   "id": "e9ab6358",
   "metadata": {},
   "outputs": [
    {
     "data": {
      "image/png": "[encoded data removed]",
      "text/plain": [
       "<Figure size 432x288 with 1 Axes>"
      ]
     },
     "metadata": {
      "needs_background": "light"
     },
     "output_type": "display_data"
    }
   ],
   "source": [
    "# Plotting our acuracy charts\n",
    "import matplotlib.pyplot as plt\n",
    "\n",
    "history_dict = history.history\n",
    "\n",
    "loss_values = history_dict['accuracy']\n",
    "val_loss_values = history_dict['val_accuracy']\n",
    "epochs = range(1, len(loss_values) + 1)\n",
    "\n",
    "line1 = plt.plot(epochs, val_loss_values, label='Validation/Test Accuracy')\n",
    "line2 = plt.plot(epochs, loss_values, label='Training Accuracy')\n",
    "plt.setp(line1, linewidth=2.0, marker = '+', markersize=10.0)\n",
    "plt.setp(line2, linewidth=2.0, marker = '4', markersize=10.0)\n",
    "plt.xlabel('Epochs') \n",
    "plt.ylabel('Loss')\n",
    "plt.grid(True)\n",
    "plt.legend()\n",
    "plt.show()"
   ]
  },
  {
   "cell_type": "code",
   "execution_count": null,
   "id": "20179927",
   "metadata": {},
   "outputs": [],
   "source": []
  }
 ],
 "metadata": {
  "kernelspec": {
   "display_name": "Python 3",
   "language": "python",
   "name": "python3"
  },
  "language_info": {
   "codemirror_mode": {
    "name": "ipython",
    "version": 3
   },
   "file_extension": ".py",
   "mimetype": "text/x-python",
   "name": "python",
   "nbconvert_exporter": "python",
   "pygments_lexer": "ipython3",
   "version": "3.8.8"
  }
 },
 "nbformat": 4,
 "nbformat_minor": 5
}
