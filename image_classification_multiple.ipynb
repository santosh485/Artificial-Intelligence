{
 "cells": [
  {
   "cell_type": "code",
   "execution_count": 1,
   "metadata": {
    "id": "vAkVn-jzPIo8"
   },
   "outputs": [],
   "source": [
    "import tensorflow as tf"
   ]
  },
  {
   "cell_type": "code",
   "execution_count": 2,
   "metadata": {
    "id": "tu-Vn4p2ukN2"
   },
   "outputs": [],
   "source": [
    "from tensorflow import keras"
   ]
  },
  {
   "cell_type": "code",
   "execution_count": 3,
   "metadata": {
    "id": "gKc5U0S7uoC5"
   },
   "outputs": [],
   "source": [
    "from tensorflow.keras.preprocessing.image import ImageDataGenerator #\n",
    "from tensorflow.keras.models import Sequential #\n",
    "from tensorflow.keras.layers import Dense,Dropout,Activation,Flatten,Conv2D,MaxPooling2D \n",
    "#Dense=computational unit make less\n",
    "#Dropout = Numerical unit drop"
   ]
  },
  {
   "cell_type": "code",
   "execution_count": 4,
   "metadata": {
    "id": "3kIgR2lVuq8e"
   },
   "outputs": [],
   "source": [
    "#cd /path\n",
    "#!unzip /path or archive.zip\n",
    "num_classes = 2 #cat and dog\n",
    "img_row = 64\n",
    "img_col = 64 #image size change to matrics from square image\n",
    "train_dataset = \"/content/drive/MyDrive/archive.zip (Unzipped Files)/training_set/training_set\"\n",
    "test_dataset = \"/content/drive/MyDrive/archive.zip (Unzipped Files)/test_set/test_set\""
   ]
  },
  {
   "cell_type": "markdown",
   "metadata": {
    "id": "Q8NJwQN4A-xN"
   },
   "source": []
  },
  {
   "cell_type": "code",
   "execution_count": 5,
   "metadata": {
    "id": "2r7JB39qzF-a"
   },
   "outputs": [],
   "source": [
    "#data augmentation\n",
    "train_datagen = ImageDataGenerator(\n",
    "rescale = 1./255, #normaliation\n",
    "rotation_range = 30,\n",
    "width_shift_range = 0.4,\n",
    "height_shift_range = 0.4,\n",
    "horizontal_flip = True,\n",
    "fill_mode='nearest'\n",
    ")"
   ]
  },
  {
   "cell_type": "code",
   "execution_count": 6,
   "metadata": {
    "id": "RLvQijnpzOPe"
   },
   "outputs": [],
   "source": [
    "validation_datagen = ImageDataGenerator(rescale=1./255)"
   ]
  },
  {
   "cell_type": "code",
   "execution_count": 8,
   "metadata": {
    "colab": {
     "base_uri": "https://localhost:8080/"
    },
    "id": "B_gDOF9vzkKC",
    "outputId": "3f9d4c5c-492f-46d4-de6c-bb8baa6da33b"
   },
   "outputs": [
    {
     "name": "stdout",
     "output_type": "stream",
     "text": [
      "Found 8005 images belonging to 2 classes.\n"
     ]
    }
   ],
   "source": [
    "train_generator = train_datagen.flow_from_directory(\n",
    "    train_dataset,\n",
    "    target_size=(img_row,img_col),\n",
    "    batch_size = 32,\n",
    "    class_mode = 'categorical', #multicalfication\n",
    "    shuffle = True\n",
    ")"
   ]
  },
  {
   "cell_type": "code",
   "execution_count": 9,
   "metadata": {
    "colab": {
     "base_uri": "https://localhost:8080/"
    },
    "id": "kh-ydunPzndc",
    "outputId": "a30ff5b7-51f2-4528-ba9f-19af1d7ea0ae"
   },
   "outputs": [
    {
     "name": "stdout",
     "output_type": "stream",
     "text": [
      "Found 2025 images belonging to 2 classes.\n"
     ]
    }
   ],
   "source": [
    "validation_generator = train_datagen.flow_from_directory(\n",
    "    test_dataset,\n",
    "    target_size=(img_row,img_col),\n",
    "    batch_size = 32, #if more batch fast\n",
    "    class_mode = 'categorical', #categorical for multiimageclassification\n",
    "    shuffle = True\n",
    ")"
   ]
  },
  {
   "cell_type": "code",
   "execution_count": 10,
   "metadata": {
    "colab": {
     "base_uri": "https://localhost:8080/"
    },
    "id": "Y0i1w3dwzq1X",
    "outputId": "e782b3ae-5d10-48bd-8707-9602274588ae"
   },
   "outputs": [
    {
     "name": "stdout",
     "output_type": "stream",
     "text": [
      "Model: \"sequential\"\n",
      "_________________________________________________________________\n",
      " Layer (type)                Output Shape              Param #   \n",
      "=================================================================\n",
      " conv2d (Conv2D)             (None, 64, 64, 64)        1792      \n",
      "                                                                 \n",
      " activation (Activation)     (None, 64, 64, 64)        0         \n",
      "                                                                 \n",
      " max_pooling2d (MaxPooling2D  (None, 32, 32, 64)       0         \n",
      " )                                                               \n",
      "                                                                 \n",
      " dropout (Dropout)           (None, 32, 32, 64)        0         \n",
      "                                                                 \n",
      " conv2d_1 (Conv2D)           (None, 32, 32, 32)        18464     \n",
      "                                                                 \n",
      " activation_1 (Activation)   (None, 32, 32, 32)        0         \n",
      "                                                                 \n",
      " max_pooling2d_1 (MaxPooling  (None, 16, 16, 32)       0         \n",
      " 2D)                                                             \n",
      "                                                                 \n",
      " dropout_1 (Dropout)         (None, 16, 16, 32)        0         \n",
      "                                                                 \n",
      " flatten (Flatten)           (None, 8192)              0         \n",
      "                                                                 \n",
      " dense (Dense)               (None, 256)               2097408   \n",
      "                                                                 \n",
      " activation_2 (Activation)   (None, 256)               0         \n",
      "                                                                 \n",
      " dropout_2 (Dropout)         (None, 256)               0         \n",
      "                                                                 \n",
      "=================================================================\n",
      "Total params: 2,117,664\n",
      "Trainable params: 2,117,664\n",
      "Non-trainable params: 0\n",
      "_________________________________________________________________\n"
     ]
    }
   ],
   "source": [
    "model = Sequential() #feature map\n",
    "#input layer for convolution\n",
    "model.add(Conv2D(64,(3,3),padding='same',input_shape=(64,64,3)))\n",
    "model.add(Activation('relu'))\n",
    "model.add(MaxPooling2D(pool_size = (2,2)))\n",
    "model.add(Dropout(0.25))\n",
    "\n",
    "#hidden layer conv\n",
    "model.add(Conv2D(32,(3,3),padding='same'))\n",
    "model.add(Activation('relu'))\n",
    "model.add(MaxPooling2D(pool_size = (2,2)))\n",
    "model.add(Dropout(0.25))\n",
    "\n",
    "#model.add(Conv2D(16,(3,3),padding='same'))\n",
    "#model.add(Activation('relu'))\n",
    "#model.add(MaxPooling2D(pool_size = (2,2)))\n",
    "#model.add(Dropout(0.25))\n",
    "\n",
    "#flatten conv\n",
    "model.add(Flatten())#single layer 1D\n",
    "model.add(Dense(256)) #only few send\n",
    "model.add(Activation('relu'))\n",
    "model.add(Dropout(0.5)) #size decrease\n",
    "model.summary()\n",
    "\n",
    "#output shape\n",
    "# 64 by 64 image of 64 feature map"
   ]
  },
  {
   "cell_type": "code",
   "execution_count": 11,
   "metadata": {
    "colab": {
     "base_uri": "https://localhost:8080/"
    },
    "id": "v0ORQlDazv47",
    "outputId": "77c31aaa-97af-4ce0-ffca-400fce4ef584"
   },
   "outputs": [
    {
     "name": "stdout",
     "output_type": "stream",
     "text": [
      "Model: \"sequential\"\n",
      "_________________________________________________________________\n",
      " Layer (type)                Output Shape              Param #   \n",
      "=================================================================\n",
      " conv2d (Conv2D)             (None, 64, 64, 64)        1792      \n",
      "                                                                 \n",
      " activation (Activation)     (None, 64, 64, 64)        0         \n",
      "                                                                 \n",
      " max_pooling2d (MaxPooling2D  (None, 32, 32, 64)       0         \n",
      " )                                                               \n",
      "                                                                 \n",
      " dropout (Dropout)           (None, 32, 32, 64)        0         \n",
      "                                                                 \n",
      " conv2d_1 (Conv2D)           (None, 32, 32, 32)        18464     \n",
      "                                                                 \n",
      " activation_1 (Activation)   (None, 32, 32, 32)        0         \n",
      "                                                                 \n",
      " max_pooling2d_1 (MaxPooling  (None, 16, 16, 32)       0         \n",
      " 2D)                                                             \n",
      "                                                                 \n",
      " dropout_1 (Dropout)         (None, 16, 16, 32)        0         \n",
      "                                                                 \n",
      " flatten (Flatten)           (None, 8192)              0         \n",
      "                                                                 \n",
      " dense (Dense)               (None, 256)               2097408   \n",
      "                                                                 \n",
      " activation_2 (Activation)   (None, 256)               0         \n",
      "                                                                 \n",
      " dropout_2 (Dropout)         (None, 256)               0         \n",
      "                                                                 \n",
      " dense_1 (Dense)             (None, 256)               65792     \n",
      "                                                                 \n",
      " dense_2 (Dense)             (None, 128)               32896     \n",
      "                                                                 \n",
      " dense_3 (Dense)             (None, 32)                4128      \n",
      "                                                                 \n",
      " dense_4 (Dense)             (None, 16)                528       \n",
      "                                                                 \n",
      " dense_5 (Dense)             (None, 2)                 34        \n",
      "                                                                 \n",
      " activation_3 (Activation)   (None, 2)                 0         \n",
      "                                                                 \n",
      "=================================================================\n",
      "Total params: 2,221,042\n",
      "Trainable params: 2,221,042\n",
      "Non-trainable params: 0\n",
      "_________________________________________________________________\n"
     ]
    }
   ],
   "source": [
    "#neural network\n",
    "model.add(Dense(units=256, activation = 'relu'))\n",
    "model.add(Dense(units=128, activation = 'relu'))\n",
    "model.add(Dense(units=32, activation = 'relu'))\n",
    "model.add(Dense(units=16, activation = 'relu')) # only +\n",
    "model.add(Dense(2))\n",
    "model.add(Activation('sigmoid')) #0 or 1 output layer ma yes or no softmax do for probality\n",
    "model.summary()"
   ]
  },
  {
   "cell_type": "code",
   "execution_count": 12,
   "metadata": {
    "colab": {
     "base_uri": "https://localhost:8080/"
    },
    "id": "lB7gtVjzAI0e",
    "outputId": "50479994-6f26-4b1d-a70a-4e671806722f"
   },
   "outputs": [
    {
     "name": "stderr",
     "output_type": "stream",
     "text": [
      "/usr/local/lib/python3.7/dist-packages/ipykernel_launcher.py:12: UserWarning: `Model.fit_generator` is deprecated and will be removed in a future version. Please use `Model.fit`, which supports generators.\n",
      "  if sys.path[0] == '':\n"
     ]
    },
    {
     "name": "stdout",
     "output_type": "stream",
     "text": [
      "25/25 [==============================] - 212s 8s/step - loss: 0.7186 - accuracy: 0.4975 - val_loss: 0.6929 - val_accuracy: 0.5156\n"
     ]
    },
    {
     "data": {
      "text/plain": [
       "<keras.callbacks.History at 0x7f392146b7d0>"
      ]
     },
     "execution_count": 12,
     "metadata": {},
     "output_type": "execute_result"
    }
   ],
   "source": [
    "#comile before traing\n",
    "#training\n",
    "model.compile(loss='categorical_crossentropy',\n",
    "              optimizer = 'rmsprop',\n",
    "              metrics = ['accuracy'])\n",
    "\n",
    "model.fit_generator(\n",
    "    train_generator,\n",
    "    steps_per_epoch = 800//32,\n",
    "    epochs = 1, #do maximum epoch for better test\n",
    "    validation_data= validation_generator,\n",
    "    validation_steps = 202//32\n",
    ")\n",
    "#layer decrease"
   ]
  },
  {
   "cell_type": "code",
   "execution_count": 13,
   "metadata": {
    "id": "nE5GzWRnTl86"
   },
   "outputs": [],
   "source": [
    "model.save('/content/drive/MyDrive/archive.zip (Unzipped Files)/cat_vs_dog.h5')"
   ]
  },
  {
   "cell_type": "code",
   "execution_count": 15,
   "metadata": {
    "colab": {
     "base_uri": "https://localhost:8080/"
    },
    "id": "4brOFtdoUN9t",
    "outputId": "aa3f50e0-b94e-4ab3-a056-fa8e4a730c0f"
   },
   "outputs": [
    {
     "name": "stdout",
     "output_type": "stream",
     "text": [
      "[[0.6270496  0.74256116]]\n"
     ]
    }
   ],
   "source": [
    "#test\n",
    "from tensorflow.python.keras.utils.generic_utils import class_and_config_for_serialized_keras_object\n",
    "import numpy as np #to convert array\n",
    "from tensorflow.keras.preprocessing import image\n",
    "from tensorflow.keras.models import load_model\n",
    "\n",
    "classifier = load_model('/content/drive/MyDrive/archive.zip (Unzipped Files)/cat_vs_dog.h5')\n",
    "test_image = image.load_img('/content/drive/MyDrive/archive.zip (Unzipped Files)/test_set/test_set/dogs/dog.4001.jpg',target_size = (64,64,3))\n",
    "test_image = image.img_to_array(test_image)\n",
    "test_image = np.expand_dims(test_image,axis=0)\n",
    "result = classifier.predict(test_image)\n",
    "print(result)\n",
    "#if result > 0.6:\n",
    " # print(\"This is dog\")\n",
    "#else:\n",
    "  #print(\"This is cat\")"
   ]
  },
  {
   "cell_type": "code",
   "execution_count": 18,
   "metadata": {
    "colab": {
     "base_uri": "https://localhost:8080/"
    },
    "id": "PKSC8m-4X_xO",
    "outputId": "429c42af-931f-41e9-cf99-9d087aca5685"
   },
   "outputs": [
    {
     "name": "stdout",
     "output_type": "stream",
     "text": [
      "probability of cat  0.74256116\n",
      "probability of dog  0.6270496\n"
     ]
    }
   ],
   "source": [
    "#for multiimage\n",
    "probability_of_dog = result[0][0]\n",
    "probability_of_cat = result[0][1]\n",
    "print(\"probability of cat \", probability_of_cat)\n",
    "print(\"probability of dog \", probability_of_dog)"
   ]
  },
  {
   "cell_type": "code",
   "execution_count": null,
   "metadata": {
    "id": "xrglBjR-cQtq"
   },
   "outputs": [],
   "source": []
  }
 ],
 "metadata": {
  "accelerator": "GPU",
  "colab": {
   "name": "Copy of image_classification.ipynb",
   "provenance": []
  },
  "kernelspec": {
   "display_name": "Python 3",
   "language": "python",
   "name": "python3"
  },
  "language_info": {
   "codemirror_mode": {
    "name": "ipython",
    "version": 3
   },
   "file_extension": ".py",
   "mimetype": "text/x-python",
   "name": "python",
   "nbconvert_exporter": "python",
   "pygments_lexer": "ipython3",
   "version": "3.8.8"
  }
 },
 "nbformat": 4,
 "nbformat_minor": 1
}
