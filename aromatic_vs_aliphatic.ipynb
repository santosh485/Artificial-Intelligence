{
 "cells": [
  {
   "cell_type": "code",
   "execution_count": 2,
   "id": "1a758aba",
   "metadata": {},
   "outputs": [],
   "source": [
    "import tensorflow as tf"
   ]
  },
  {
   "cell_type": "code",
   "execution_count": 3,
   "id": "f35fed6f",
   "metadata": {},
   "outputs": [],
   "source": [
    "from tensorflow import keras"
   ]
  },
  {
   "cell_type": "code",
   "execution_count": 4,
   "id": "007e343b",
   "metadata": {},
   "outputs": [],
   "source": [
    "from tensorflow.keras.preprocessing.image import ImageDataGenerator #\n",
    "from tensorflow.keras.models import Sequential #\n",
    "from tensorflow.keras.layers import Dense,Dropout,Activation,Flatten,Conv2D,MaxPooling2D \n",
    "#Dense=computational unit make less\n",
    "#Dropout = Numerical unit drop"
   ]
  },
  {
   "cell_type": "code",
   "execution_count": 5,
   "id": "a3c2b21a",
   "metadata": {},
   "outputs": [],
   "source": [
    "#cd /path\n",
    "#!unzip /path or archive.zip\n",
    "num_classes = 2 #cat and dog\n",
    "img_row = 64\n",
    "img_col = 64 #image size\n",
    "train_dataset = \"E:\\\\AIBroadway\\\\AromaticVsAliphatic\\\\Train\"\n",
    "test_dataset = \"E:\\\\AIBroadway\\\\AromaticVsAliphatic\\\\Test\""
   ]
  },
  {
   "cell_type": "code",
   "execution_count": 6,
   "id": "38a4e57d",
   "metadata": {},
   "outputs": [],
   "source": [
    "#data augmentation\n",
    "train_datagen = ImageDataGenerator(\n",
    "rescale = 1./255,\n",
    "rotation_range = 30,\n",
    "width_shift_range = 0.4,\n",
    "height_shift_range = 0.4,\n",
    "horizontal_flip = True,\n",
    "fill_mode='nearest')"
   ]
  },
  {
   "cell_type": "code",
   "execution_count": 7,
   "id": "088498f1",
   "metadata": {},
   "outputs": [],
   "source": [
    "validation_datagen = ImageDataGenerator(rescale=1./255)"
   ]
  },
  {
   "cell_type": "code",
   "execution_count": 8,
   "id": "bb7be614",
   "metadata": {},
   "outputs": [
    {
     "name": "stdout",
     "output_type": "stream",
     "text": [
      "Found 360 images belonging to 2 classes.\n"
     ]
    }
   ],
   "source": [
    "train_generator = train_datagen.flow_from_directory(\n",
    "    train_dataset,\n",
    "    target_size=(img_row,img_col),\n",
    "    batch_size = 32,\n",
    "    class_mode = 'binary',\n",
    "    shuffle = True\n",
    ")"
   ]
  },
  {
   "cell_type": "code",
   "execution_count": 9,
   "id": "dac32e7e",
   "metadata": {},
   "outputs": [
    {
     "name": "stdout",
     "output_type": "stream",
     "text": [
      "Found 90 images belonging to 2 classes.\n"
     ]
    }
   ],
   "source": [
    "validation_generator = train_datagen.flow_from_directory(\n",
    "    test_dataset,\n",
    "    target_size=(img_row,img_col),\n",
    "    batch_size = 32,\n",
    "    class_mode = 'binary',\n",
    "    shuffle = True\n",
    ")"
   ]
  },
  {
   "cell_type": "code",
   "execution_count": 10,
   "id": "221ecea3",
   "metadata": {},
   "outputs": [
    {
     "name": "stdout",
     "output_type": "stream",
     "text": [
      "Model: \"sequential\"\n",
      "_________________________________________________________________\n",
      "Layer (type)                 Output Shape              Param #   \n",
      "=================================================================\n",
      "conv2d (Conv2D)              (None, 64, 64, 64)        1792      \n",
      "_________________________________________________________________\n",
      "activation (Activation)      (None, 64, 64, 64)        0         \n",
      "_________________________________________________________________\n",
      "max_pooling2d (MaxPooling2D) (None, 32, 32, 64)        0         \n",
      "_________________________________________________________________\n",
      "dropout (Dropout)            (None, 32, 32, 64)        0         \n",
      "_________________________________________________________________\n",
      "conv2d_1 (Conv2D)            (None, 32, 32, 32)        18464     \n",
      "_________________________________________________________________\n",
      "activation_1 (Activation)    (None, 32, 32, 32)        0         \n",
      "_________________________________________________________________\n",
      "max_pooling2d_1 (MaxPooling2 (None, 16, 16, 32)        0         \n",
      "_________________________________________________________________\n",
      "dropout_1 (Dropout)          (None, 16, 16, 32)        0         \n",
      "_________________________________________________________________\n",
      "conv2d_2 (Conv2D)            (None, 16, 16, 16)        4624      \n",
      "_________________________________________________________________\n",
      "activation_2 (Activation)    (None, 16, 16, 16)        0         \n",
      "_________________________________________________________________\n",
      "max_pooling2d_2 (MaxPooling2 (None, 8, 8, 16)          0         \n",
      "_________________________________________________________________\n",
      "dropout_2 (Dropout)          (None, 8, 8, 16)          0         \n",
      "_________________________________________________________________\n",
      "flatten (Flatten)            (None, 1024)              0         \n",
      "_________________________________________________________________\n",
      "dense (Dense)                (None, 256)               262400    \n",
      "_________________________________________________________________\n",
      "activation_3 (Activation)    (None, 256)               0         \n",
      "_________________________________________________________________\n",
      "dropout_3 (Dropout)          (None, 256)               0         \n",
      "=================================================================\n",
      "Total params: 287,280\n",
      "Trainable params: 287,280\n",
      "Non-trainable params: 0\n",
      "_________________________________________________________________\n"
     ]
    }
   ],
   "source": [
    "model = Sequential() #feature map\n",
    "#input layer for convolution\n",
    "model.add(Conv2D(64,(3,3),padding='same',input_shape=(64,64,3)))\n",
    "model.add(Activation('relu'))\n",
    "model.add(MaxPooling2D(pool_size = (2,2)))\n",
    "model.add(Dropout(0.25))\n",
    "\n",
    "#hidden layer conv\n",
    "model.add(Conv2D(32,(3,3),padding='same'))\n",
    "model.add(Activation('relu'))\n",
    "model.add(MaxPooling2D(pool_size = (2,2)))\n",
    "model.add(Dropout(0.25))\n",
    "\n",
    "model.add(Conv2D(16,(3,3),padding='same'))\n",
    "model.add(Activation('relu'))\n",
    "model.add(MaxPooling2D(pool_size = (2,2)))\n",
    "model.add(Dropout(0.25))\n",
    "\n",
    "#flatten conv\n",
    "model.add(Flatten())#single layer 1D\n",
    "model.add(Dense(256)) #only few send\n",
    "model.add(Activation('relu'))\n",
    "model.add(Dropout(0.5)) #size decrease\n",
    "model.summary()\n"
   ]
  },
  {
   "cell_type": "code",
   "execution_count": 11,
   "id": "9c202051",
   "metadata": {},
   "outputs": [
    {
     "name": "stdout",
     "output_type": "stream",
     "text": [
      "Model: \"sequential\"\n",
      "_________________________________________________________________\n",
      "Layer (type)                 Output Shape              Param #   \n",
      "=================================================================\n",
      "conv2d (Conv2D)              (None, 64, 64, 64)        1792      \n",
      "_________________________________________________________________\n",
      "activation (Activation)      (None, 64, 64, 64)        0         \n",
      "_________________________________________________________________\n",
      "max_pooling2d (MaxPooling2D) (None, 32, 32, 64)        0         \n",
      "_________________________________________________________________\n",
      "dropout (Dropout)            (None, 32, 32, 64)        0         \n",
      "_________________________________________________________________\n",
      "conv2d_1 (Conv2D)            (None, 32, 32, 32)        18464     \n",
      "_________________________________________________________________\n",
      "activation_1 (Activation)    (None, 32, 32, 32)        0         \n",
      "_________________________________________________________________\n",
      "max_pooling2d_1 (MaxPooling2 (None, 16, 16, 32)        0         \n",
      "_________________________________________________________________\n",
      "dropout_1 (Dropout)          (None, 16, 16, 32)        0         \n",
      "_________________________________________________________________\n",
      "conv2d_2 (Conv2D)            (None, 16, 16, 16)        4624      \n",
      "_________________________________________________________________\n",
      "activation_2 (Activation)    (None, 16, 16, 16)        0         \n",
      "_________________________________________________________________\n",
      "max_pooling2d_2 (MaxPooling2 (None, 8, 8, 16)          0         \n",
      "_________________________________________________________________\n",
      "dropout_2 (Dropout)          (None, 8, 8, 16)          0         \n",
      "_________________________________________________________________\n",
      "flatten (Flatten)            (None, 1024)              0         \n",
      "_________________________________________________________________\n",
      "dense (Dense)                (None, 256)               262400    \n",
      "_________________________________________________________________\n",
      "activation_3 (Activation)    (None, 256)               0         \n",
      "_________________________________________________________________\n",
      "dropout_3 (Dropout)          (None, 256)               0         \n",
      "_________________________________________________________________\n",
      "dense_1 (Dense)              (None, 256)               65792     \n",
      "_________________________________________________________________\n",
      "dense_2 (Dense)              (None, 128)               32896     \n",
      "_________________________________________________________________\n",
      "dense_3 (Dense)              (None, 32)                4128      \n",
      "_________________________________________________________________\n",
      "dense_4 (Dense)              (None, 16)                528       \n",
      "_________________________________________________________________\n",
      "dense_5 (Dense)              (None, 1)                 17        \n",
      "_________________________________________________________________\n",
      "activation_4 (Activation)    (None, 1)                 0         \n",
      "=================================================================\n",
      "Total params: 390,641\n",
      "Trainable params: 390,641\n",
      "Non-trainable params: 0\n",
      "_________________________________________________________________\n"
     ]
    }
   ],
   "source": [
    "#neural network\n",
    "model.add(Dense(units=256, activation = 'relu'))\n",
    "model.add(Dense(units=128, activation = 'relu'))\n",
    "model.add(Dense(units=32, activation = 'relu'))\n",
    "model.add(Dense(units=16, activation = 'relu')) # only +\n",
    "model.add(Dense(1))\n",
    "model.add(Activation('sigmoid')) #0 or 1 output layer ma yes or no softmax do for probality\n",
    "model.summary()"
   ]
  },
  {
   "cell_type": "code",
   "execution_count": 12,
   "id": "f7132ef7",
   "metadata": {},
   "outputs": [
    {
     "name": "stderr",
     "output_type": "stream",
     "text": [
      "D:\\Other\\anaconda\\lib\\site-packages\\tensorflow\\python\\keras\\engine\\training.py:1940: UserWarning: `Model.fit_generator` is deprecated and will be removed in a future version. Please use `Model.fit`, which supports generators.\n",
      "  warnings.warn('`Model.fit_generator` is deprecated and '\n"
     ]
    },
    {
     "name": "stdout",
     "output_type": "stream",
     "text": [
      "Epoch 1/10\n",
      "11/11 [==============================] - 191s 18s/step - loss: 0.7052 - accuracy: 0.4634 - val_loss: 0.6929 - val_accuracy: 0.5312\n",
      "Epoch 2/10\n",
      "11/11 [==============================] - 169s 16s/step - loss: 0.6939 - accuracy: 0.4909 - val_loss: 0.6873 - val_accuracy: 0.5156\n",
      "Epoch 3/10\n",
      "11/11 [==============================] - 174s 16s/step - loss: 0.6896 - accuracy: 0.5518 - val_loss: 0.6618 - val_accuracy: 0.4531\n",
      "Epoch 4/10\n",
      "11/11 [==============================] - 179s 17s/step - loss: 0.7047 - accuracy: 0.5488 - val_loss: 0.6186 - val_accuracy: 1.0000\n",
      "Epoch 5/10\n",
      "11/11 [==============================] - 172s 16s/step - loss: 0.6586 - accuracy: 0.5976 - val_loss: 0.6557 - val_accuracy: 0.7656\n",
      "Epoch 6/10\n",
      "11/11 [==============================] - 178s 16s/step - loss: 0.6406 - accuracy: 0.5884 - val_loss: 0.3596 - val_accuracy: 1.0000\n",
      "Epoch 7/10\n",
      "11/11 [==============================] - 171s 16s/step - loss: 0.6601 - accuracy: 0.5457 - val_loss: 0.5531 - val_accuracy: 0.9062\n",
      "Epoch 8/10\n",
      "11/11 [==============================] - 192s 18s/step - loss: 0.6061 - accuracy: 0.6335 - val_loss: 0.2923 - val_accuracy: 1.0000\n",
      "Epoch 9/10\n",
      "11/11 [==============================] - 174s 16s/step - loss: 0.6132 - accuracy: 0.6280 - val_loss: 0.3342 - val_accuracy: 1.0000\n",
      "Epoch 10/10\n",
      "11/11 [==============================] - 170s 16s/step - loss: 0.6953 - accuracy: 0.5335 - val_loss: 0.4450 - val_accuracy: 0.9688\n"
     ]
    }
   ],
   "source": [
    "#comile before traing\n",
    "#training\n",
    "model.compile(loss='binary_crossentropy',\n",
    "              optimizer = 'rmsprop',\n",
    "              metrics = ['accuracy'])\n",
    "\n",
    "history = model.fit_generator(\n",
    "    train_generator,\n",
    "    steps_per_epoch = 360//32,\n",
    "    epochs = 10,\n",
    "    validation_data= validation_generator,\n",
    "    validation_steps = 90//32\n",
    ")"
   ]
  },
  {
   "cell_type": "code",
   "execution_count": 13,
   "id": "bdd4b9d7",
   "metadata": {},
   "outputs": [],
   "source": [
    "model.save('E:\\\\AIBroadway\\\\AromaticVsAliphatic\\\\aromatic_vs_aliphatic.h5')"
   ]
  },
  {
   "cell_type": "code",
   "execution_count": 15,
   "id": "ac2923bc",
   "metadata": {},
   "outputs": [
    {
     "name": "stdout",
     "output_type": "stream",
     "text": [
      "[[1.7166979e-09]]\n",
      "This is aromatic\n"
     ]
    }
   ],
   "source": [
    "#test\n",
    "from tensorflow.python.keras.utils.generic_utils import class_and_config_for_serialized_keras_object\n",
    "import numpy as np #to convert array\n",
    "from tensorflow.keras.preprocessing import image\n",
    "from tensorflow.keras.models import load_model\n",
    "\n",
    "classifier = load_model('E:\\\\AIBroadway\\\\AromaticVsAliphatic\\\\aromatic_vs_aliphatic.h5')\n",
    "test_image = image.load_img('E:\\\\AIBroadway\\\\AromaticVsAliphatic\\\\Test\\\\Aliphatic\\\\1 (31).jpg',target_size = (64,64,3))\n",
    "test_image = image.img_to_array(test_image)\n",
    "test_image = np.expand_dims(test_image,axis=0)\n",
    "result = classifier.predict(test_image)\n",
    "print(result)\n",
    "if result > 0.6:\n",
    "  print(\"This is aliphatic\")\n",
    "else:\n",
    "  print(\"This is aromatic\")"
   ]
  },
  {
   "cell_type": "code",
   "execution_count": 16,
   "id": "48dbebd8",
   "metadata": {},
   "outputs": [
    {
     "data": {
      "text/plain": [
       "{'loss': [0.7052390575408936,\n",
       "  0.6938574314117432,\n",
       "  0.6896181106567383,\n",
       "  0.7047069668769836,\n",
       "  0.6585848927497864,\n",
       "  0.6405605673789978,\n",
       "  0.6601431965827942,\n",
       "  0.6060853600502014,\n",
       "  0.613195538520813,\n",
       "  0.6952558755874634],\n",
       " 'accuracy': [0.46341463923454285,\n",
       "  0.4908536672592163,\n",
       "  0.5518292784690857,\n",
       "  0.5487805008888245,\n",
       "  0.5975610017776489,\n",
       "  0.5884146094322205,\n",
       "  0.5457317233085632,\n",
       "  0.6335227489471436,\n",
       "  0.6280487775802612,\n",
       "  0.5335366129875183],\n",
       " 'val_loss': [0.6928892731666565,\n",
       "  0.687312662601471,\n",
       "  0.6618484854698181,\n",
       "  0.6185639500617981,\n",
       "  0.6557390689849854,\n",
       "  0.3595740497112274,\n",
       "  0.5530956983566284,\n",
       "  0.29229283332824707,\n",
       "  0.3342307209968567,\n",
       "  0.44502735137939453],\n",
       " 'val_accuracy': [0.53125,\n",
       "  0.515625,\n",
       "  0.453125,\n",
       "  1.0,\n",
       "  0.765625,\n",
       "  1.0,\n",
       "  0.90625,\n",
       "  1.0,\n",
       "  1.0,\n",
       "  0.96875]}"
      ]
     },
     "execution_count": 16,
     "metadata": {},
     "output_type": "execute_result"
    }
   ],
   "source": [
    "history.history"
   ]
  },
  {
   "cell_type": "code",
   "execution_count": 17,
   "id": "58883db9",
   "metadata": {},
   "outputs": [
    {
     "data": {
      "image/png": "[encoded data removed]",
      "text/plain": [
       "<Figure size 432x288 with 1 Axes>"
      ]
     },
     "metadata": {
      "needs_background": "light"
     },
     "output_type": "display_data"
    },
    {
     "data": {
      "image/png": "[encoded data removed]",
      "text/plain": [
       "<Figure size 432x288 with 1 Axes>"
      ]
     },
     "metadata": {
      "needs_background": "light"
     },
     "output_type": "display_data"
    }
   ],
   "source": [
    "# Plotting our loss charts\n",
    "import matplotlib.pyplot as plt\n",
    "\n",
    "history_dict = history.history #\n",
    "\n",
    "loss_values = history_dict['loss']\n",
    "val_loss_values = history_dict['val_loss']\n",
    "epochs = range(1, len(loss_values) + 1)\n",
    "\n",
    "line1 = plt.plot(epochs, val_loss_values, label='Validation/Test Loss')\n",
    "line2 = plt.plot(epochs, loss_values, label='Training Loss')\n",
    "\n",
    "plt.setp(line1, linewidth=2.0, marker = '+', markersize=10.0)\n",
    "plt.setp(line2, linewidth=2.0, marker = '4', markersize=10.0)\n",
    "plt.xlabel('Epochs') \n",
    "plt.ylabel('Loss')\n",
    "plt.grid(True)\n",
    "plt.legend()\n",
    "plt.show()\n",
    "\n",
    "# Plotting our acuracy charts\n",
    "import matplotlib.pyplot as plt\n",
    "\n",
    "history_dict = history.history\n",
    "\n",
    "loss_values = history_dict['accuracy']\n",
    "val_loss_values = history_dict['val_accuracy']\n",
    "epochs = range(1, len(loss_values) + 1)\n",
    "\n",
    "line1 = plt.plot(epochs, val_loss_values, label='Validation/Test Accuracy')\n",
    "line2 = plt.plot(epochs, loss_values, label='Training Accuracy')\n",
    "plt.setp(line1, linewidth=2.0, marker = '+', markersize=10.0)\n",
    "plt.setp(line2, linewidth=2.0, marker = '4', markersize=10.0)\n",
    "plt.xlabel('Epochs') \n",
    "plt.ylabel('Loss')\n",
    "plt.grid(True)\n",
    "plt.legend()\n",
    "plt.show()"
   ]
  },
  {
   "cell_type": "code",
   "execution_count": 18,
   "id": "e9ab6358",
   "metadata": {},
   "outputs": [
    {
     "data": {
      "image/png": "[encoded data removed]",
      "text/plain": [
       "<Figure size 432x288 with 1 Axes>"
      ]
     },
     "metadata": {
      "needs_background": "light"
     },
     "output_type": "display_data"
    }
   ],
   "source": [
    "# Plotting our acuracy charts\n",
    "import matplotlib.pyplot as plt\n",
    "\n",
    "history_dict = history.history\n",
    "\n",
    "loss_values = history_dict['accuracy']\n",
    "val_loss_values = history_dict['val_accuracy']\n",
    "epochs = range(1, len(loss_values) + 1)\n",
    "\n",
    "line1 = plt.plot(epochs, val_loss_values, label='Validation/Test Accuracy')\n",
    "line2 = plt.plot(epochs, loss_values, label='Training Accuracy')\n",
    "plt.setp(line1, linewidth=2.0, marker = '+', markersize=10.0)\n",
    "plt.setp(line2, linewidth=2.0, marker = '4', markersize=10.0)\n",
    "plt.xlabel('Epochs') \n",
    "plt.ylabel('Loss')\n",
    "plt.grid(True)\n",
    "plt.legend()\n",
    "plt.show()"
   ]
  },
  {
   "cell_type": "code",
   "execution_count": null,
   "id": "20179927",
   "metadata": {},
   "outputs": [],
   "source": []
  }
 ],
 "metadata": {
  "kernelspec": {
   "display_name": "Python 3",
   "language": "python",
   "name": "python3"
  },
  "language_info": {
   "codemirror_mode": {
    "name": "ipython",
    "version": 3
   },
   "file_extension": ".py",
   "mimetype": "text/x-python",
   "name": "python",
   "nbconvert_exporter": "python",
   "pygments_lexer": "ipython3",
   "version": "3.8.8"
  }
 },
 "nbformat": 4,
 "nbformat_minor": 5
}
