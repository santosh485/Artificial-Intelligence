{
 "cells": [
  {
   "cell_type": "code",
   "execution_count": 6,
   "id": "96e9a80f",
   "metadata": {},
   "outputs": [],
   "source": [
    "import cv2\n",
    "face_cascade = cv2.CascadeClassifier('haarcascade_frontalface_default.xml') # We load the cascade for the face.\n",
    "eye_cascade = cv2.CascadeClassifier('haarcascade_eye.xml') # We load the cascade for the eyes."
   ]
  },
  {
   "cell_type": "code",
   "execution_count": 7,
   "id": "61be8fab",
   "metadata": {},
   "outputs": [],
   "source": [
    "def detect(gray, frame):\n",
    "    faces = face_cascade.detectMultiScale(gray, 1.3, 5)\n",
    "    \n",
    "    for (x, y, w, h) in faces: # For each detected face:\n",
    "        cv2.rectangle(frame, (x, y), (x+w, y+h), (255, 0, 0), 2)\n",
    "       \n",
    "#         cv2.putText(frame,\"Status:{}\".format(count),(10,20),cv2.FONT_HERSHEY_SIMPLEX,1,(0,0,255),2)\n",
    "        \n",
    "        roi_gray = gray[y:y+h, x:x+w]\n",
    "        roi_color = frame[y:y+h, x:x+w]\n",
    "        eyes = eye_cascade.detectMultiScale(roi_gray, 1.1, 3)\n",
    "        \n",
    "        for (ex, ey, ew, eh) in eyes:\n",
    "            cv2.rectangle(roi_color,(ex, ey),(ex+ew, ey+eh),(0,255, 0), 2)\n",
    "    return frame\n",
    "    \n"
   ]
  },
  {
   "cell_type": "code",
   "execution_count": null,
   "id": "594fca38",
   "metadata": {},
   "outputs": [],
   "source": [
    "video_capture = cv2.VideoCapture(0) # We turn the webcam on.\n",
    "while True:\n",
    "    ret, frame = video_capture.read() # We get the last frame.\n",
    "    gray = cv2.cvtColor(frame, cv2.COLOR_BGR2GRAY) \n",
    "    canvas = detect(gray, frame) \n",
    "    cv2.imshow('Video', canvas)\n",
    "    \n",
    "    if cv2.waitKey(1) & 0xFF == ord('e'):\n",
    "        break # We stop the loop."
   ]
  },
  {
   "cell_type": "code",
   "execution_count": null,
   "id": "69e11536",
   "metadata": {},
   "outputs": [],
   "source": []
  }
 ],
 "metadata": {
  "kernelspec": {
   "display_name": "Python 3",
   "language": "python",
   "name": "python3"
  },
  "language_info": {
   "codemirror_mode": {
    "name": "ipython",
    "version": 3
   },
   "file_extension": ".py",
   "mimetype": "text/x-python",
   "name": "python",
   "nbconvert_exporter": "python",
   "pygments_lexer": "ipython3",
   "version": "3.8.8"
  }
 },
 "nbformat": 4,
 "nbformat_minor": 5
}
